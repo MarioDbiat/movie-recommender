{
 "cells": [
  {
   "cell_type": "code",
   "execution_count": 2,
   "metadata": {},
   "outputs": [],
   "source": [
    "# General Libraries\n",
    "import numpy as np\n",
    "import pandas as pd\n",
    "import ast\n",
    "import random\n",
    "from collections import defaultdict\n",
    "from tqdm import tqdm\n",
    "import time\n",
    "import faiss\n",
    "\n",
    "# Torch\n",
    "import torch \n",
    "from torch.utils.data import DataLoader, random_split \n",
    "from torch.optim.lr_scheduler import ReduceLROnPlateau \n",
    "\n",
    "# SBERT\n",
    "from sentence_transformers import SentenceTransformer, InputExample, LoggingHandler, losses, util, SentencesDataset \n",
    "from sentence_transformers.losses import TripletLoss\n",
    "from sentence_transformers.util import batch_to_device, cos_sim \n",
    "\n",
    "# sklearn\n",
    "from sklearn.metrics.pairwise import cosine_similarity \n",
    "from sklearn.model_selection import train_test_split  \n",
    "from sklearn.preprocessing import normalize \n",
    "from sklearn.decomposition import PCA\n",
    "\n",
    "# Plotting\n",
    "import matplotlib.pyplot as plt\n",
    "\n"
   ]
  },
  {
   "cell_type": "code",
   "execution_count": 3,
   "metadata": {},
   "outputs": [],
   "source": [
    "import warnings\n",
    "warnings.filterwarnings(\"ignore\")"
   ]
  },
  {
   "cell_type": "markdown",
   "metadata": {},
   "source": [
    "# Cleaning DataSet"
   ]
  },
  {
   "cell_type": "code",
   "execution_count": 6,
   "metadata": {},
   "outputs": [
    {
     "name": "stdout",
     "output_type": "stream",
     "text": [
      "Number of movies in the dataset: 1193898\n"
     ]
    }
   ],
   "source": [
    "# Load Dataset\n",
    "df = pd.read_csv(\"C:\\MovieReommenderSystem\\TMDB_movie_dataset_v11.csv\")\n",
    "print(f\"Number of movies in the dataset: {len(df)}\")"
   ]
  },
  {
   "cell_type": "code",
   "execution_count": null,
   "metadata": {},
   "outputs": [],
   "source": [
    "# Drop movies with missing overviews (descriptions)\n",
    "df = df.dropna(subset=['overview'])\n",
    "\n",
    "# Fill missing genres with \"Unknown\"\n",
    "df['genres'] = df['genres'].fillna(\"Unknown\")\n",
    "\n",
    "# Drop movies without titles\n",
    "df = df.dropna(subset=['title'])\n"
   ]
  },
  {
   "cell_type": "code",
   "execution_count": null,
   "metadata": {},
   "outputs": [
    {
     "name": "stdout",
     "output_type": "stream",
     "text": [
      "Remaining movies after removing duplicates: 798029\n"
     ]
    }
   ],
   "source": [
    "# Drop duplicate movies, keeping the first occurrence\n",
    "df = df.drop_duplicates(subset=['title'], keep='first')\n",
    "print(f\"Remaining movies after removing duplicates: {len(df)}\")"
   ]
  },
  {
   "cell_type": "code",
   "execution_count": 7,
   "metadata": {},
   "outputs": [],
   "source": [
    "def process_genres(genre_data):\n",
    "    if isinstance(genre_data, str):\n",
    "        try:\n",
    "            # Try parsing JSON format\n",
    "            genre_list = ast.literal_eval(genre_data)\n",
    "            return [genre['name'] for genre in genre_list if isinstance(genre, dict)]\n",
    "        except (SyntaxError, ValueError):\n",
    "            # If it's a plain comma-separated string, split it into a list\n",
    "            return genre_data.split(\", \")\n",
    "    return []  # Return an empty list if there's no valid data\n",
    "\n",
    "# Apply the function to the genres column\n",
    "df['genres'] = df['genres'].apply(process_genres)"
   ]
  },
  {
   "cell_type": "code",
   "execution_count": 14,
   "metadata": {},
   "outputs": [
    {
     "name": "stdout",
     "output_type": "stream",
     "text": [
      "                                  title                genres\n",
      "317087        Revolt of the Mercenaries  [Adventure, Romance]\n",
      "331402         Champagner für Zimmer 17     [Crime, Thriller]\n",
      "369419                              ANU    [Adventure, Drama]\n",
      "635112                        Who Is It               [Music]\n",
      "1133952            The Green-Eyed Devil               [Drama]\n",
      "1181833        Herbie Mann: Jasil Brazz                    []\n",
      "34251                      Casanova Cat           [Animation]\n",
      "513417            Les Tambours de Tokyo                    []\n",
      "1045478  Cream Filled Chocolate Holes 2                    []\n",
      "50387                    Exit Marrakech               [Drama]\n"
     ]
    }
   ],
   "source": [
    "# Verify the changes\n",
    "print(df[['title', 'genres']].sample(10))"
   ]
  },
  {
   "cell_type": "code",
   "execution_count": 21,
   "metadata": {},
   "outputs": [],
   "source": [
    "df.to_csv(\"C:\\MovieReommenderSystem\\TMDB_movie_dataset_v12.csv\", index=False)"
   ]
  },
  {
   "cell_type": "markdown",
   "metadata": {},
   "source": [
    "# DataSet"
   ]
  },
  {
   "cell_type": "code",
   "execution_count": 22,
   "metadata": {},
   "outputs": [],
   "source": [
    "# Load The Cleaned Dataset\n",
    "df = pd.read_csv(\"C:\\MovieReommenderSystem\\TMDB_movie_dataset_v12.csv\")"
   ]
  },
  {
   "cell_type": "code",
   "execution_count": 23,
   "metadata": {},
   "outputs": [
    {
     "name": "stdout",
     "output_type": "stream",
     "text": [
      "Remaining movies after removing duplicates: 798029\n"
     ]
    }
   ],
   "source": [
    "print(f\"Remaining movies after removing duplicates: {len(df)}\")"
   ]
  },
  {
   "cell_type": "markdown",
   "metadata": {},
   "source": [
    "# Create Triplits for SBERT Fine-Tuning"
   ]
  },
  {
   "cell_type": "code",
   "execution_count": null,
   "metadata": {},
   "outputs": [],
   "source": [
    "# 1️⃣ Load and Clean Dataset\n",
    "df = pd.read_csv(r\"C:\\MovieReommenderSystem\\TMDB_movie_dataset_v12.csv\")\n",
    "df = df[df[\"overview\"].notna()]\n",
    "df = df[df[\"overview\"].str.len() > 100]\n",
    "df = df.drop_duplicates(subset=\"overview\")\n",
    "\n",
    "# 2️⃣ NSFW Filtering\n",
    "nsfw_keywords = [\n",
    "    'xxx', 'porn', 'escort', 'call girl', 'hardcore', 'nude', 'sex', 'slut', 'babe',\n",
    "    'cock', 'milf', 'pounded', 'oral', 'fetish', 'suck', 'jerk', 'cum', 'nsfw',\n",
    "    'panties', 'blowjob', 'fucking', 'fuck', 'felatio', 'nasty', 'nipple', 'vibrator',\n",
    "    'thagson', 'dildo', 'erotic', 'lust', 'orgasm', 'squirt', 'rape', 'raped', 'raping'\n",
    "]\n",
    "def is_nsfw(text):\n",
    "    return any(word in text.lower() for word in nsfw_keywords)\n",
    "df = df[~df[\"overview\"].apply(is_nsfw)].reset_index(drop=True)\n",
    "print(f\"✅ Dataset cleaned: {len(df)} entries remain after NSFW filtering.\")\n",
    "\n",
    "# 3️⃣ Sample ~100k plots (helps us generate more than 35k triplets)\n",
    "df_sample = df.sample(n=min(100000, len(df)), random_state=42).reset_index(drop=True)\n",
    "plots = df_sample[\"overview\"].tolist()\n",
    "\n",
    "# 4️⃣ SBERT Embeddings\n",
    "model = SentenceTransformer(\"all-MiniLM-L6-v2\")\n",
    "print(\"🔄 Encoding plots with SBERT...\")\n",
    "embeddings = model.encode(plots, batch_size=64, convert_to_numpy=True, show_progress_bar=True)\n",
    "\n",
    "# 5️⃣ Normalize for cosine similarity\n",
    "normalized_embeddings = normalize(embeddings, axis=1)\n",
    "\n",
    "# 6️⃣ FAISS Index for fast similarity search\n",
    "dimension = normalized_embeddings.shape[1]\n",
    "index = faiss.IndexFlatIP(dimension)\n",
    "index.add(normalized_embeddings)\n",
    "\n",
    "# 7️⃣ Generate Triplets\n",
    "triplets = []\n",
    "skipped = 0\n",
    "\n",
    "print(\"🚀 Generating triplets...\")\n",
    "for i in tqdm(range(len(df_sample)), desc=\"🔍 Filtering Triplets\"):\n",
    "    anchor_idx = i\n",
    "    anchor_vec = normalized_embeddings[anchor_idx].reshape(1, -1)\n",
    "\n",
    "    # Top 20 similar indices (exclude self)\n",
    "    _, I = index.search(anchor_vec, 21)\n",
    "    similar_indices = I[0][1:]\n",
    "\n",
    "    # Find valid positive\n",
    "    selected_positive = None\n",
    "    for pos_idx in similar_indices:\n",
    "        sim_score = cosine_similarity(anchor_vec, normalized_embeddings[pos_idx].reshape(1, -1))[0][0]\n",
    "        if sim_score > 0.60:\n",
    "            selected_positive = pos_idx\n",
    "            break\n",
    "    if selected_positive is None:\n",
    "        skipped += 1\n",
    "        continue\n",
    "\n",
    "    # Find valid negative\n",
    "    selected_negative = None\n",
    "    for _ in range(10):\n",
    "        neg_idx = random.randint(0, len(df_sample) - 1)\n",
    "        if neg_idx in [anchor_idx, selected_positive]:\n",
    "            continue\n",
    "        sim_score = cosine_similarity(anchor_vec, normalized_embeddings[neg_idx].reshape(1, -1))[0][0]\n",
    "        if sim_score < 0.45:\n",
    "            selected_negative = neg_idx\n",
    "            break\n",
    "    if selected_negative is None:\n",
    "        skipped += 1\n",
    "        continue\n",
    "\n",
    "    # Append triplet\n",
    "    triplets.append([\n",
    "        plots[anchor_idx],\n",
    "        plots[selected_positive],\n",
    "        plots[selected_negative]\n",
    "    ])\n",
    "\n",
    "    # 💡 Stop at 50,000 triplets max\n",
    "    if len(triplets) >= 50000:\n",
    "        break\n",
    "\n",
    "# 8️⃣ Save Triplets\n",
    "triplet_df = pd.DataFrame(triplets, columns=[\"anchor\", \"positive\", \"negative\"])\n",
    "triplet_df.to_csv(\"expanded_triplet_dataset_v2.csv\", index=False)\n",
    "\n",
    "print(f\"\\n✅ Generated {len(triplets)} high-quality triplets\")\n",
    "print(f\"❌ Skipped {skipped} anchors with no valid match\")\n",
    "print(\"💾 Saved as 'expanded_triplet_dataset.csv_v2'\")\n"
   ]
  },
  {
   "cell_type": "markdown",
   "metadata": {},
   "source": [
    "# Check Training Data"
   ]
  },
  {
   "cell_type": "code",
   "execution_count": null,
   "metadata": {},
   "outputs": [
    {
     "name": "stdout",
     "output_type": "stream",
     "text": [
      "🧾 Dataset shape: (31511, 3)\n",
      "📋 Columns: ['anchor', 'positive', 'negative']\n",
      "\n",
      "🔍 Sample data:\n",
      "                                              anchor  \\\n",
      "0  Francis, a depressive and nostalgic thirty-som...   \n",
      "1  Where do we come from? Who are we? Where are w...   \n",
      "2  Recounts a day in the life of Andrés who, due ...   \n",
      "3  Budo Sento Championship 26 took place on Frida...   \n",
      "4  A wealthy couple of Greek-Americans arrive in ...   \n",
      "\n",
      "                                            positive  \\\n",
      "0  Drowning in debt, child support and bills all ...   \n",
      "1  Where do I come From? What am I? Where am I go...   \n",
      "2  Due to betting problems, Andrés and his lover,...   \n",
      "3  Budo Sento Championship 23 took place Friday, ...   \n",
      "4  A wealthy man is responsible for his friend’s ...   \n",
      "\n",
      "                                            negative  \n",
      "0  With the Men in Black on his case, fun-loving ...  \n",
      "1  When Linda gets a phone call about her little ...  \n",
      "2  Inspired by music films like Kanye West's Runa...  \n",
      "3  Seung Jun works as a wedding host and singer. ...  \n",
      "4  Born on January 4, 1927 in Brussels, Jean Rain...  \n",
      "\n",
      "🚨 Null values per column:\n",
      "anchor      0\n",
      "positive    0\n",
      "negative    0\n",
      "dtype: int64\n",
      "\n",
      "🔁 Duplicate rows: 0\n",
      "\n",
      "🧼 Rows with short entries:\n",
      "(0, 3)\n",
      "\n",
      "🎯 Example Triplet:\n",
      "\n",
      "🔹 Anchor:\n",
      " Francis, a depressive and nostalgic thirty-something, can't get over his breakup and spends his time listening to an old French pop song that reminds him of his lost love. Forced to spend an evening Time's up with friends, Francis' obsession will test the patience of some.\n",
      "\n",
      "✅ Positive:\n",
      " Drowning in debt, child support and bills all while white knuckling it through sobriety, Francis is coming undone. When his roommate, Shelly, goes missing, Francis is thrown headlong into her private world; a slip stream of money, violence and terrifying allegiances.\n",
      "\n",
      "❌ Negative:\n",
      " With the Men in Black on his case, fun-loving redneck Bo McGraw must help an extra-terrestrial get back on his flying saucer after being accidentally left behind in rural Alabama.\n"
     ]
    }
   ],
   "source": [
    "# Load the dataset\n",
    "df = pd.read_csv(r\"C:\\MovieReommenderSystem\\expanded_triplet_dataset_v2.csv\")\n",
    "\n",
    "# 1. Check basic structure\n",
    "print(\"🧾 Dataset shape:\", df.shape)\n",
    "print(\"📋 Columns:\", df.columns.tolist())\n",
    "\n",
    "# 2. Show first few rows\n",
    "print(\"\\n🔍 Sample data:\")\n",
    "print(df.head(5))\n",
    "\n",
    "# 3. Check for null or empty entries\n",
    "print(\"\\n🚨 Null values per column:\")\n",
    "print(df.isnull().sum())\n",
    "\n",
    "# 4. Check if any rows have duplicate triplets\n",
    "duplicates = df.duplicated()\n",
    "print(f\"\\n🔁 Duplicate rows: {duplicates.sum()}\")\n",
    "\n",
    "# 5. Check for overly short text\n",
    "short_threshold = 50\n",
    "print(\"\\n🧼 Rows with short entries:\")\n",
    "short_rows = df[\n",
    "    (df['anchor'].str.len() < short_threshold) |\n",
    "    (df['positive'].str.len() < short_threshold) |\n",
    "    (df['negative'].str.len() < short_threshold)\n",
    "]\n",
    "print(short_rows.shape)\n",
    "\n",
    "# 6. Show one full triplet (nicely)\n",
    "print(\"\\n🎯 Example Triplet:\\n\")\n",
    "example = df.iloc[0]\n",
    "print(\"🔹 Anchor:\\n\", example['anchor'])\n",
    "print(\"\\n✅ Positive:\\n\", example['positive'])\n",
    "print(\"\\n❌ Negative:\\n\", example['negative'])"
   ]
  },
  {
   "cell_type": "code",
   "execution_count": null,
   "metadata": {},
   "outputs": [
    {
     "name": "stdout",
     "output_type": "stream",
     "text": [
      "\n",
      "🎯 Showing 5 random triplets:\n",
      "------------------------------------------------------------\n",
      "\n",
      "🟩 Triplet #1\n",
      "\n",
      "🔹 Anchor:\n",
      " A young female urologist opens an office in the same building as a male obstetrician. Eventually, they become entangled in a romance that allows them to grow and heal together.\n",
      "\n",
      "✅ Positive:\n",
      " The romantic adventures of a 28-year-old gynecologist who has very little experience with women outside of the examining room.\n",
      "\n",
      "❌ Negative:\n",
      " A humorous criminal story about a dog that knew how to read, appreciated classical music and spoke a foreign language. His primitive master hates his dog's superiority and tries to liquidate it physically.\n",
      "\n",
      "------------------------------------------------------------\n",
      "\n",
      "🟩 Triplet #2\n",
      "\n",
      "🔹 Anchor:\n",
      " In the Christmas holidays, a mysterious extra-terrestrial force bursts into the life of a suburban couple on the brink of divorce. However, none of them notices this otherwordly presence, so this entity will have to live with them in this grey, sad and lifeless home, observing as their relationship finally desintegrates.\n",
      "\n",
      "✅ Positive:\n",
      " When a couple on the brink of divorce get stuck in an elevator together on Christmas Eve, both think it will be a nightmare. But surprisingly, the Christmas music brings back memories, the gifts they have just shopped for spark a flame, and a misunderstanding from a Christmas past is resolved. As the elevator crew works overtime to rescue them, they realize where they went wrong and rekindle a love that had never really died.\n",
      "\n",
      "❌ Negative:\n",
      " A group of very strange men, refugees and casualties of the war, rally round when one of their number is framed by a drug racketeer. Co-opting a well-known journalist to their cause, they scheme to bring the racketeer to justice in a home-made \"trial\" in the crypt of a ruined church.\n",
      "\n",
      "------------------------------------------------------------\n",
      "\n",
      "🟩 Triplet #3\n",
      "\n",
      "🔹 Anchor:\n",
      " When Ted’s beloved cat dies, the trauma triggers a terrible mental breakdown. His broken brain prompts him to bring his feline friend back – all he needs is nine human lives. Ted dons vicious deadly cat claw gloves and a creepy cat mask, and goes on a murderous rampage. As the butchery escalates, a twisted romance blossoms between Ted and Claire, a young woman who has also recently lost her cat in a horrifying incident.\n",
      "\n",
      "✅ Positive:\n",
      " Ted lives with his daughter, Lauren, and his cat, Olivia, in an ordinary house at the end of an ordinary street. An unspeakable secret binds them together, and when a new neighbor moves in next door, what is buried out among the birch trees behind their house will come back to haunt them all.\n",
      "\n",
      "❌ Negative:\n",
      " Made in collaboration with performer Yolanda Vidato, Water Ritual #1 examines Black women’s ongoing struggle for spiritual and psychological space through improvisational, symbolic acts. Shot in 16mm black-and-white, the film was made in an area of Watts that had been cleared to make way for the I-105 freeway, but ultimately abandoned. Though the film is set in contemporary L.A., at first sight, Milanda and her environs (burnt-out houses overgrown with weeds) might seem to be located in Africa or the Caribbean, or at some time in the past. Structured as an Africanist ritual for Barbara McCullough’s “participant-viewers,” the film addresses how conditions of poverty, exploitation and anger render the Los Angeles landscape not as the fabled promised land for Black migrants, but as both cause and emblem of Black desolation. (Jacqueline Stewart)\n",
      "\n",
      "------------------------------------------------------------\n",
      "\n",
      "🟩 Triplet #4\n",
      "\n",
      "🔹 Anchor:\n",
      " An impressionist sea ponders the movements of creatures, seeing them in its dreams like dots swimming on its surface, carried along by the waves that slow the immense motion of its waters.\n",
      "\n",
      "✅ Positive:\n",
      " A meditation on the radically different means of creation available to us, Jason Zumpano’s latest short “Glide” is an invitation to the mythopoetic and the various materials, from the painterly to the digital, that bring it into existence. Against Matisse-like colour palettes and impressionistic-resolutions, the central figure of “Glide” is a woman floating on a lantern-helmed rowboat. We float through various angles and perspectives as she’s drawn languidly towards a collective future. The screen blends between settings that emerge from sky to ocean and from canvas to characters coming together in a watery dreamscape that enacts a mysterious ritual. The soundtrack voices the oceanic and star-lit setting. Think Vangelis in an Aeolian reverie of golden hues. Think, ponder and glide.\n",
      "\n",
      "❌ Negative:\n",
      " Two years after Jason Parks (Landy Cannon) saved Warrior Princess Summer Vale (Brigitte Kingsley) from her life hunting Killopoths in the demon dimension, a sudden surge of supernatural activity and violent attacks have resurfaced on our plane beyond the normal parameters of the portal. The Rising Dark Agency, a black ops division of the government headed by Colonel Haggerd (Michael Ironside), suspects that the mystic strikes suggests the work of Mardock, an evil Demon-god capable of destroying worlds. When a new demon sub-species disrupts Summer's wedding and eats her fiancée, the war on the new Demon Lord begins. With her group of misfits and their BFG's - Summer sets out to destroy Mardock, but no one is prepared for who they find behind the Dark Lord's ascension.\n",
      "\n",
      "------------------------------------------------------------\n",
      "\n",
      "🟩 Triplet #5\n",
      "\n",
      "🔹 Anchor:\n",
      " Joel Creasey likes to speak his mind. Nothing is sacred. In The Acid Tongue Prince Joel recounts his stories of run-ins with celebrities, politicians, football teams, regional towns and of course his parents - creating controversy wherever he goes. Armed with his razor sharp wit and skin-tight jeans, nobody is safe. With award nominations, sell out shows and TV and radio appearances there is no doubt that Joel Creasey is one of Australia's hottest rising stars of comedy.\n",
      "\n",
      "✅ Positive:\n",
      " Australia’s acid tongued prince of comedy, Joel Creasey, takes to the Sydney Opera House stage for a sizzling night of no-holds barred, adults-only stand up. With his unique brand of sass, Joel takes the audience on a roller-coaster ride through his celebrated “coming out”, his Twitter beef with Russell Crowe, Zumba classes with his mum, partying with Carrie Fisher and opening for Joan Rivers in  New York. Joel’s journey will leave his reputation in tatters and the rest of us in stitches.\n",
      "\n",
      "❌ Negative:\n",
      " Keely, a shy but capable producer is asked to man the board for Theme Park Water, a band comprised of frontman (and her crush) Valentino, Topher the drummer and Brock the guitarist.\n",
      "\n",
      "------------------------------------------------------------\n"
     ]
    }
   ],
   "source": [
    "# Function to show N random triplets nicely\n",
    "def show_triplets(df, n=5):\n",
    "    print(f\"\\n🎯 Showing {n} random triplets:\\n\" + \"-\"*60)\n",
    "    samples = df.sample(n=n, random_state=random.randint(0, 10000)).reset_index(drop=True)\n",
    "\n",
    "    for i, row in samples.iterrows():\n",
    "        print(f\"\\n🟩 Triplet #{i+1}\")\n",
    "        print(\"\\n🔹 Anchor:\\n\", row['anchor'])\n",
    "        print(\"\\n✅ Positive:\\n\", row['positive'])\n",
    "        print(\"\\n❌ Negative:\\n\", row['negative'])\n",
    "        print(\"\\n\" + \"-\"*60)\n",
    "\n",
    "# Call the function with however many samples to check\n",
    "show_triplets(df, n=5)  # 👈 Change to 10, 20, etc. as needed"
   ]
  },
  {
   "cell_type": "code",
   "execution_count": 18,
   "metadata": {},
   "outputs": [
    {
     "name": "stdout",
     "output_type": "stream",
     "text": [
      "🔍 Nulls per column:\n",
      " anchor      0\n",
      "positive    0\n",
      "negative    0\n",
      "dtype: int64\n",
      "🧼 Short entries: 0\n"
     ]
    }
   ],
   "source": [
    "# Any missing (NaN) values?\n",
    "print(\"🔍 Nulls per column:\\n\", df.isnull().sum())\n",
    "\n",
    "# Any very short entries? (Less than 30 characters)\n",
    "short_entries = df[\n",
    "    (df[\"anchor\"].str.len() < 30) |\n",
    "    (df[\"positive\"].str.len() < 30) |\n",
    "    (df[\"negative\"].str.len() < 30)\n",
    "]\n",
    "print(f\"🧼 Short entries: {len(short_entries)}\")"
   ]
  },
  {
   "cell_type": "code",
   "execution_count": 19,
   "metadata": {},
   "outputs": [
    {
     "name": "stdout",
     "output_type": "stream",
     "text": [
      "🔁 Duplicate rows: 0\n",
      "⚠️ Anchor == Positive: 0\n",
      "⚠️ Anchor == Negative: 0\n"
     ]
    }
   ],
   "source": [
    "# Any duplicate triplets?\n",
    "dupes = df.duplicated()\n",
    "print(f\"🔁 Duplicate rows: {dupes.sum()}\")\n",
    "\n",
    "# Any rows where anchor == positive or anchor == negative?\n",
    "same_pos = df[df[\"anchor\"] == df[\"positive\"]]\n",
    "same_neg = df[df[\"anchor\"] == df[\"negative\"]]\n",
    "\n",
    "print(f\"⚠️ Anchor == Positive: {len(same_pos)}\")\n",
    "print(f\"⚠️ Anchor == Negative: {len(same_neg)}\")\n",
    "\n",
    "if len(same_pos) > 0:\n",
    "    df = df[df[\"anchor\"] != df[\"positive\"]].reset_index(drop=True)\n",
    "    print(f\"✅ Final dataset shape after cleaning: {df.shape}\")\n",
    "    df.to_csv(\"expanded_triplet_dataset_v2.csv\", index=False)"
   ]
  },
  {
   "cell_type": "code",
   "execution_count": 20,
   "metadata": {},
   "outputs": [
    {
     "name": "stdout",
     "output_type": "stream",
     "text": [
      "\n",
      "🎯 Triplet #1\n",
      "🔹 Anchor:\n",
      " It is the love story of the cardenche singers in Sapioriz, Durango, Mexico, and the murder of Maria Cristina Salazar Olvera, one of their daugthers.\n",
      "✅ Positive:\n",
      " A movie about Cardenche singing, which was born within the backdrop akin to slavery of the cotton laborers of Durango in the 19th century. A tradition hanging on by a thread.\n",
      "❌ Negative:\n",
      " A 14-year-old junior high school boy who likes astronomy was forced to practice the piano by his single father. Suddenly an alien appeared in the boy's bedroom, which completely changed the lives of the boy and his father.\n",
      "\n",
      "🎯 Triplet #2\n",
      "🔹 Anchor:\n",
      " Sanna has broken up with her boyfriend Jon. Because her father is in the hospital, she moved into her father's apartment. In his dresser drawer, she finds clipped obituaries of his colleagues, who all seem to have died prematurely. Sanna crosses one border after another, approaching a total collapse of her obsession with truth. In the end, she takes the law into her own hands.\n",
      "✅ Positive:\n",
      " A middle aged widower Sanna has emigrated to Sweden after her husband's death . She lives in Linköping with her two children and works in the local library. During one of the lectures held for the immigrants in the library, she meets doctor Peter Mackus and starts exchange letters. Quite soon they fall in love.\n",
      "❌ Negative:\n",
      " An unhappy, self-centered woman runs off with her sister's husband, wreaking havoc and ruining the lives of those around her.\n",
      "\n",
      "🎯 Triplet #3\n",
      "🔹 Anchor:\n",
      " Initial situation: models were invited to participate in their portrait by the contribution of personal objects and a great freedom of expression before the camera. This initial situation was conceived by Catherine Rebois.  Graffon: I propose to film in a fragmented way these sessions of pose. Participants agree to be filmed at the same time they are photographed.  Deliberately sharpened shift between an initial situation in its own duration and its filmic recording. The sequence of photographic shooting sessions is shattered.\n",
      "✅ Positive:\n",
      " This film is made with personal and public archive footage.  The project is an evocation to the transpersonal memory, a tool to appeal to images and views that are organically overlap. The image layers fused frames together in a mesh, a porous unity, the editing of a new singular body of images. An internal pulse, a vital beat becoming image and sound.  A babbling mantra –the projector mechanical sound-, the movement of the cars, the atmosphere and the people create an image score.  This orphan-film, found-footage, personal register is taken out of its original context and taken into an artistic discourse so as to create a new narrative thanks to the deconstruction and the addition of images. The original footage was reinterpreted in a new visual story: an expanded cinema projection.  Trance was born as a video installation composed by three projections projected simultanously.\n",
      "❌ Negative:\n",
      " A mother takes her minivan through an automatic car wash, drives home, scoops up the mail, pulls into the garage and kills herself. She leaves behind a husband (Dad), a daughter away at college (Riley), a set of teenage twins (Caitrin and Eli), and a dog (Leadbelly). Among the whitewashed fences, mailboxes, and manicured lawns, a despondent family deals with the drudgery of grief and their growing detachment to each other-- all through the eyes of their depressed dog, Leadbelly.\n",
      "\n",
      "🎯 Triplet #4\n",
      "🔹 Anchor:\n",
      " In the Northern Andes, in the Venezuelan Andes, in the midst of work and immense and beautiful landscapes, women and men, farmers, tell us about the past and present of Andean agriculture and culture.\n",
      "✅ Positive:\n",
      " A journey to the origins through the encounter with the muleteers, farmers, artisans and artists of the Venezuelan Andes.\n",
      "❌ Negative:\n",
      " The story of a rural community in Ireland, who have been battling the oil giant Shell over their plans to put a dangerous raw gas pipeline though the community and a gas processing terminal that is a threat to their delicate environment.\n",
      "\n",
      "🎯 Triplet #5\n",
      "🔹 Anchor:\n",
      " Jean Clédat, a young sculptor, has fallen in love with Gabrielle Normand, a painter. Jean's father, who expected him to perform his art in his native town, is surprised not to see him come back after his studies at the Fine Arts Academy, all the more as Marie-Claire, his kind-hearted fiancée, is waiting for him at home. Suspecting a love affair, Clédat Senior comes to visit Jean out of the blue. Not only are his suspicions confirmed but they are even reinforced when he catches sight of a doll in his son's studio. After telling Gabrielle that he will provide maintenance for the \"child\", he forces his son son to go back home. The only thing is that he is making a mistake : there IS a four-year-old girl, but she is Gabrielle's little sister, not her daughter...\n",
      "✅ Positive:\n",
      " Jean left his hometown ten years ago. When his father falls ill, he comes back and reunites with his sister Juliette and his brother Jérémie. As seasons go by around their vineyard, they'll have to trust each other again.\n",
      "❌ Negative:\n",
      " Nada, a wanderer without meaning in his life, discovers a pair of sunglasses capable of showing the world the way it truly is. As he walks the streets of Los Angeles, Nada notices that both the media and the government are comprised of subliminal messages meant to keep the population subdued, and that most of the social elite are skull-faced aliens bent on world domination. With this shocking discovery, Nada fights to free humanity from the mind-controlling aliens.\n"
     ]
    }
   ],
   "source": [
    "# View a few random triplets\n",
    "import random\n",
    "\n",
    "for i in range(5):\n",
    "    row = df.sample(n=1).iloc[0]\n",
    "    print(f\"\\n🎯 Triplet #{i+1}\")\n",
    "    print(\"🔹 Anchor:\\n\", row['anchor'])\n",
    "    print(\"✅ Positive:\\n\", row['positive'])\n",
    "    print(\"❌ Negative:\\n\", row['negative'])"
   ]
  },
  {
   "cell_type": "code",
   "execution_count": 23,
   "metadata": {},
   "outputs": [
    {
     "name": "stdout",
     "output_type": "stream",
     "text": [
      "\n",
      "✅ Positive Similarity: 0.6372\n",
      "❌ Negative Similarity: 0.0170\n",
      "📉 Difference: 0.6201\n"
     ]
    }
   ],
   "source": [
    "model = SentenceTransformer(\"all-MiniLM-L6-v2\")\n",
    "\n",
    "sample = df.sample(n=1).iloc[0]\n",
    "anchor_emb = model.encode(sample['anchor'], convert_to_tensor=True)\n",
    "pos_emb = model.encode(sample['positive'], convert_to_tensor=True)\n",
    "neg_emb = model.encode(sample['negative'], convert_to_tensor=True)\n",
    "\n",
    "pos_sim = util.pytorch_cos_sim(anchor_emb, pos_emb).item()\n",
    "neg_sim = util.pytorch_cos_sim(anchor_emb, neg_emb).item()\n",
    "\n",
    "print(f\"\\n✅ Positive Similarity: {pos_sim:.4f}\")\n",
    "print(f\"❌ Negative Similarity: {neg_sim:.4f}\")\n",
    "print(f\"📉 Difference: {pos_sim - neg_sim:.4f}\")\n"
   ]
  },
  {
   "cell_type": "code",
   "execution_count": 41,
   "metadata": {},
   "outputs": [
    {
     "name": "stdout",
     "output_type": "stream",
     "text": [
      "📊 Avg Positive-Negative Difference: 0.6196\n"
     ]
    }
   ],
   "source": [
    "diffs = []\n",
    "for _ in range(10):\n",
    "    sample = df.sample(n=1).iloc[0]\n",
    "    anchor_emb = model.encode(sample['anchor'], convert_to_tensor=True)\n",
    "    pos_emb = model.encode(sample['positive'], convert_to_tensor=True)\n",
    "    neg_emb = model.encode(sample['negative'], convert_to_tensor=True)\n",
    "\n",
    "    pos_sim = util.pytorch_cos_sim(anchor_emb, pos_emb).item()\n",
    "    neg_sim = util.pytorch_cos_sim(anchor_emb, neg_emb).item()\n",
    "    diffs.append(pos_sim - neg_sim)\n",
    "\n",
    "print(f\"📊 Avg Positive-Negative Difference: {np.mean(diffs):.4f}\")\n"
   ]
  },
  {
   "cell_type": "markdown",
   "metadata": {},
   "source": [
    "# Fine-Tune SBERT"
   ]
  },
  {
   "cell_type": "code",
   "execution_count": 3,
   "metadata": {},
   "outputs": [
    {
     "name": "stdout",
     "output_type": "stream",
     "text": [
      "✅ Total Training df_Triplets Saved: 31511\n"
     ]
    }
   ],
   "source": [
    "# 1. Load triplet dataset\n",
    "df_Triplets = pd.read_csv(r\"C:\\MovieReommenderSystem\\expanded_triplet_dataset_v2.csv\")\n",
    "print(f\"✅ Total Training df_Triplets Saved: {len(df_Triplets)}\")"
   ]
  },
  {
   "cell_type": "code",
   "execution_count": 4,
   "metadata": {},
   "outputs": [],
   "source": [
    "# 2. Convert dataset into SBERT InputExamples\n",
    "train_samples = [InputExample(texts=[row['anchor'], row['positive'], row['negative']]) for _, row in df_Triplets.iterrows()]"
   ]
  },
  {
   "cell_type": "code",
   "execution_count": 5,
   "metadata": {},
   "outputs": [
    {
     "name": "stdout",
     "output_type": "stream",
     "text": [
      "📊 Training Samples: 28359 | Validation Samples: 3152\n"
     ]
    }
   ],
   "source": [
    "# 3. Split into Training & Validation Set\n",
    "train_size = int(0.9 * len(train_samples))  # 90% Train, 10% Validation\n",
    "val_size = len(train_samples) - train_size\n",
    "train_dataset, val_dataset = random_split(train_samples, [train_size, val_size])\n",
    "print(f\"📊 Training Samples: {len(train_dataset)} | Validation Samples: {len(val_dataset)}\")"
   ]
  },
  {
   "cell_type": "code",
   "execution_count": 6,
   "metadata": {},
   "outputs": [],
   "source": [
    "# 4 Define collate function for triplet batching\n",
    "def collate_fn(batch):\n",
    "    anchors = [ex.texts[0] for ex in batch]\n",
    "    positives = [ex.texts[1] for ex in batch]\n",
    "    negatives = [ex.texts[2] for ex in batch]\n",
    "    return anchors, positives, negatives"
   ]
  },
  {
   "cell_type": "code",
   "execution_count": 7,
   "metadata": {},
   "outputs": [
    {
     "name": "stdout",
     "output_type": "stream",
     "text": [
      "✅ Model loaded on cuda.\n"
     ]
    }
   ],
   "source": [
    "# ✅ Load Pretrained SBERT Model\n",
    "model = SentenceTransformer(\"all-MiniLM-L6-v2\")  # You can try larger models later --> another good one is \"all-MiniLM-L6-v2\"\n",
    "\n",
    "# ✅ Move Model to GPU\n",
    "device = \"cuda\" if torch.cuda.is_available() else \"cpu\"\n",
    "model.to(device)\n",
    "\n",
    "print(f\"✅ Model loaded on {device}.\")"
   ]
  },
  {
   "cell_type": "code",
   "execution_count": 8,
   "metadata": {},
   "outputs": [
    {
     "name": "stdout",
     "output_type": "stream",
     "text": [
      "SentenceTransformer(\n",
      "  (0): Transformer({'max_seq_length': 256, 'do_lower_case': False}) with Transformer model: BertModel \n",
      "  (1): Pooling({'word_embedding_dimension': 384, 'pooling_mode_cls_token': False, 'pooling_mode_mean_tokens': True, 'pooling_mode_max_tokens': False, 'pooling_mode_mean_sqrt_len_tokens': False})\n",
      "  (2): Normalize()\n",
      ")\n"
     ]
    }
   ],
   "source": [
    "# 6. Create DataLoaders\n",
    "train_dataloader = DataLoader(train_dataset, shuffle=True, batch_size=8, collate_fn=collate_fn)\n",
    "val_dataloader = DataLoader(val_dataset, shuffle=False, batch_size=8, collate_fn=collate_fn)\n",
    "\n",
    "# Add a margin (default is 1.0, but can be tuned into, e.g., 0.3 or 0.5)\n",
    "train_loss = TripletLoss(model=model, triplet_margin=0.5)\n",
    "\n",
    "# Print model details\n",
    "print(model)"
   ]
  },
  {
   "cell_type": "code",
   "execution_count": 9,
   "metadata": {},
   "outputs": [
    {
     "data": {
      "application/vnd.jupyter.widget-view+json": {
       "model_id": "ae900d2db48548368d686ef16140086e",
       "version_major": 2,
       "version_minor": 0
      },
      "text/plain": [
       "Epoch:   0%|          | 0/1 [00:00<?, ?it/s]"
      ]
     },
     "metadata": {},
     "output_type": "display_data"
    },
    {
     "data": {
      "application/vnd.jupyter.widget-view+json": {
       "model_id": "0d12ac3387574181b574eb3caf5ae639",
       "version_major": 2,
       "version_minor": 0
      },
      "text/plain": [
       "Iteration:   0%|          | 0/3545 [00:00<?, ?it/s]"
      ]
     },
     "metadata": {},
     "output_type": "display_data"
    },
    {
     "name": "stdout",
     "output_type": "stream",
     "text": [
      "📊 Validation Loss: 0.0101\n"
     ]
    },
    {
     "data": {
      "application/vnd.jupyter.widget-view+json": {
       "model_id": "c817a8609da74c028cb91403b6c13a86",
       "version_major": 2,
       "version_minor": 0
      },
      "text/plain": [
       "Epoch:   0%|          | 0/1 [00:00<?, ?it/s]"
      ]
     },
     "metadata": {},
     "output_type": "display_data"
    },
    {
     "data": {
      "application/vnd.jupyter.widget-view+json": {
       "model_id": "e9e3d6c367484025b2bdee7870dd055f",
       "version_major": 2,
       "version_minor": 0
      },
      "text/plain": [
       "Iteration:   0%|          | 0/3545 [00:00<?, ?it/s]"
      ]
     },
     "metadata": {},
     "output_type": "display_data"
    },
    {
     "name": "stdout",
     "output_type": "stream",
     "text": [
      "📊 Validation Loss: 0.0096\n"
     ]
    },
    {
     "data": {
      "application/vnd.jupyter.widget-view+json": {
       "model_id": "b78bc79cbfdb487e9abd408345d8db04",
       "version_major": 2,
       "version_minor": 0
      },
      "text/plain": [
       "Epoch:   0%|          | 0/1 [00:00<?, ?it/s]"
      ]
     },
     "metadata": {},
     "output_type": "display_data"
    },
    {
     "data": {
      "application/vnd.jupyter.widget-view+json": {
       "model_id": "55258d5a9ae944e99b8494bc75e00f69",
       "version_major": 2,
       "version_minor": 0
      },
      "text/plain": [
       "Iteration:   0%|          | 0/3545 [00:00<?, ?it/s]"
      ]
     },
     "metadata": {},
     "output_type": "display_data"
    },
    {
     "name": "stdout",
     "output_type": "stream",
     "text": [
      "📊 Validation Loss: 0.0101\n"
     ]
    },
    {
     "data": {
      "application/vnd.jupyter.widget-view+json": {
       "model_id": "21df8064e7a0441ea2981ae4993caa4d",
       "version_major": 2,
       "version_minor": 0
      },
      "text/plain": [
       "Epoch:   0%|          | 0/1 [00:00<?, ?it/s]"
      ]
     },
     "metadata": {},
     "output_type": "display_data"
    },
    {
     "data": {
      "application/vnd.jupyter.widget-view+json": {
       "model_id": "7f85892e8215451aa91fc4d34d5bf302",
       "version_major": 2,
       "version_minor": 0
      },
      "text/plain": [
       "Iteration:   0%|          | 0/3545 [00:00<?, ?it/s]"
      ]
     },
     "metadata": {},
     "output_type": "display_data"
    },
    {
     "name": "stdout",
     "output_type": "stream",
     "text": [
      "📊 Validation Loss: 0.0098\n"
     ]
    },
    {
     "data": {
      "application/vnd.jupyter.widget-view+json": {
       "model_id": "388ebc2d0b3249a6af42fedb480ede9e",
       "version_major": 2,
       "version_minor": 0
      },
      "text/plain": [
       "Epoch:   0%|          | 0/1 [00:00<?, ?it/s]"
      ]
     },
     "metadata": {},
     "output_type": "display_data"
    },
    {
     "data": {
      "application/vnd.jupyter.widget-view+json": {
       "model_id": "8d8138366f2a4633a22402e926dffdd3",
       "version_major": 2,
       "version_minor": 0
      },
      "text/plain": [
       "Iteration:   0%|          | 0/3545 [00:00<?, ?it/s]"
      ]
     },
     "metadata": {},
     "output_type": "display_data"
    },
    {
     "name": "stdout",
     "output_type": "stream",
     "text": [
      "📊 Validation Loss: 0.0106\n"
     ]
    },
    {
     "data": {
      "application/vnd.jupyter.widget-view+json": {
       "model_id": "3e2920ea729a4bc29cf7b788a8ddb3d4",
       "version_major": 2,
       "version_minor": 0
      },
      "text/plain": [
       "Epoch:   0%|          | 0/1 [00:00<?, ?it/s]"
      ]
     },
     "metadata": {},
     "output_type": "display_data"
    },
    {
     "data": {
      "application/vnd.jupyter.widget-view+json": {
       "model_id": "29860cb936a445bcbd00d64b1ea64f1d",
       "version_major": 2,
       "version_minor": 0
      },
      "text/plain": [
       "Iteration:   0%|          | 0/3545 [00:00<?, ?it/s]"
      ]
     },
     "metadata": {},
     "output_type": "display_data"
    },
    {
     "name": "stdout",
     "output_type": "stream",
     "text": [
      "📊 Validation Loss: 0.0115\n"
     ]
    },
    {
     "data": {
      "application/vnd.jupyter.widget-view+json": {
       "model_id": "65b3d9db47044f9ebabf354503046c41",
       "version_major": 2,
       "version_minor": 0
      },
      "text/plain": [
       "Epoch:   0%|          | 0/1 [00:00<?, ?it/s]"
      ]
     },
     "metadata": {},
     "output_type": "display_data"
    },
    {
     "data": {
      "application/vnd.jupyter.widget-view+json": {
       "model_id": "f38e43d621384d17bb9428ae486aba9a",
       "version_major": 2,
       "version_minor": 0
      },
      "text/plain": [
       "Iteration:   0%|          | 0/3545 [00:00<?, ?it/s]"
      ]
     },
     "metadata": {},
     "output_type": "display_data"
    },
    {
     "name": "stdout",
     "output_type": "stream",
     "text": [
      "📊 Validation Loss: 0.0121\n"
     ]
    },
    {
     "data": {
      "application/vnd.jupyter.widget-view+json": {
       "model_id": "27667e95ca944009848fa4f323b87c58",
       "version_major": 2,
       "version_minor": 0
      },
      "text/plain": [
       "Epoch:   0%|          | 0/1 [00:00<?, ?it/s]"
      ]
     },
     "metadata": {},
     "output_type": "display_data"
    },
    {
     "data": {
      "application/vnd.jupyter.widget-view+json": {
       "model_id": "65bb4899aec04d5ba464c9dc019f6079",
       "version_major": 2,
       "version_minor": 0
      },
      "text/plain": [
       "Iteration:   0%|          | 0/3545 [00:00<?, ?it/s]"
      ]
     },
     "metadata": {},
     "output_type": "display_data"
    },
    {
     "name": "stdout",
     "output_type": "stream",
     "text": [
      "📊 Validation Loss: 0.0106\n"
     ]
    },
    {
     "data": {
      "application/vnd.jupyter.widget-view+json": {
       "model_id": "c61cb06f1746436c9eae48b1cef01de4",
       "version_major": 2,
       "version_minor": 0
      },
      "text/plain": [
       "Epoch:   0%|          | 0/1 [00:00<?, ?it/s]"
      ]
     },
     "metadata": {},
     "output_type": "display_data"
    },
    {
     "data": {
      "application/vnd.jupyter.widget-view+json": {
       "model_id": "c67e6bcebf90440a88f7fcb47eebe5cc",
       "version_major": 2,
       "version_minor": 0
      },
      "text/plain": [
       "Iteration:   0%|          | 0/3545 [00:00<?, ?it/s]"
      ]
     },
     "metadata": {},
     "output_type": "display_data"
    },
    {
     "name": "stdout",
     "output_type": "stream",
     "text": [
      "📊 Validation Loss: 0.0107\n"
     ]
    },
    {
     "data": {
      "application/vnd.jupyter.widget-view+json": {
       "model_id": "785155c45093447ebe8d01d61c8f9e37",
       "version_major": 2,
       "version_minor": 0
      },
      "text/plain": [
       "Epoch:   0%|          | 0/1 [00:00<?, ?it/s]"
      ]
     },
     "metadata": {},
     "output_type": "display_data"
    },
    {
     "data": {
      "application/vnd.jupyter.widget-view+json": {
       "model_id": "422cb58775f9480099f7c4e8759aa4c5",
       "version_major": 2,
       "version_minor": 0
      },
      "text/plain": [
       "Iteration:   0%|          | 0/3545 [00:00<?, ?it/s]"
      ]
     },
     "metadata": {},
     "output_type": "display_data"
    },
    {
     "name": "stdout",
     "output_type": "stream",
     "text": [
      "📊 Validation Loss: 0.0107\n"
     ]
    }
   ],
   "source": [
    "# 7. Fine-Tune Model for Multiple Epochs\n",
    "epochs = 10 \n",
    "for epoch in range(epochs):\n",
    "    \n",
    "\n",
    "    # 8. Train the model\n",
    "    model.fit(\n",
    "        train_objectives=[(train_dataloader, train_loss)],\n",
    "        epochs=1,  \n",
    "        warmup_steps=100,\n",
    "        optimizer_params={\"lr\": 5e-5},  # Learning rate\n",
    "    )\n",
    "\n",
    "    # Validation Loop\n",
    "    model.eval()\n",
    "    total_val_loss = 0\n",
    "\n",
    "    with torch.no_grad():\n",
    "        for anchors, positives, negatives in val_dataloader:\n",
    "            #  Tokenize batch (convert raw text into tensors)\n",
    "            sentence_features = [\n",
    "                model.tokenize(anchors),\n",
    "                model.tokenize(positives),\n",
    "                model.tokenize(negatives)\n",
    "            ]\n",
    "\n",
    "            #  Move tensors to the correct device (CPU/GPU)\n",
    "            sentence_features = [batch_to_device(f, model.device) for f in sentence_features]\n",
    "\n",
    "            #  Compute triplet loss using `forward()`\n",
    "            loss = train_loss.forward(sentence_features, labels=None)\n",
    "            total_val_loss += loss.item()\n",
    "\n",
    "    #  Compute average validation loss\n",
    "    avg_val_loss = total_val_loss / len(val_dataloader)\n",
    "    print(f\"📊 Validation Loss: {avg_val_loss:.4f}\")"
   ]
  },
  {
   "cell_type": "code",
   "execution_count": 5,
   "metadata": {},
   "outputs": [
    {
     "name": "stdout",
     "output_type": "stream",
     "text": [
      "Total parameters: 22,713,216\n",
      "Trainable parameters: 22,713,216\n"
     ]
    }
   ],
   "source": [
    "total_params = sum(p.numel() for p in model.parameters())\n",
    "trainable_params = sum(p.numel() for p in model.parameters() if p.requires_grad)\n",
    "\n",
    "print(f\"Total parameters: {total_params:,}\")\n",
    "print(f\"Trainable parameters: {trainable_params:,}\")"
   ]
  },
  {
   "cell_type": "code",
   "execution_count": 12,
   "metadata": {},
   "outputs": [
    {
     "name": "stdout",
     "output_type": "stream",
     "text": [
      "✅ Positive Similarity: 0.9430\n",
      "❌ Negative Similarity: -0.0955\n"
     ]
    }
   ],
   "source": [
    "anchor = \"A detective investigates a series of brutal murders.\"\n",
    "positive = \"A police officer uncovers a shocking serial killer case.\"\n",
    "negative = \"A group of friends go on a vacation to Hawaii.\"\n",
    "\n",
    "anchor_emb = model.encode(anchor, convert_to_tensor=True)\n",
    "positive_emb = model.encode(positive, convert_to_tensor=True)\n",
    "negative_emb = model.encode(negative, convert_to_tensor=True)\n",
    "\n",
    "pos_sim = util.pytorch_cos_sim(anchor_emb, positive_emb).item()\n",
    "neg_sim = util.pytorch_cos_sim(anchor_emb, negative_emb).item()\n",
    "\n",
    "print(f\"✅ Positive Similarity: {pos_sim:.4f}\")\n",
    "print(f\"❌ Negative Similarity: {neg_sim:.4f}\")\n"
   ]
  },
  {
   "cell_type": "code",
   "execution_count": 13,
   "metadata": {},
   "outputs": [
    {
     "name": "stdout",
     "output_type": "stream",
     "text": [
      "\n",
      "✅ Model Accuracy: 99.94% on 3152 validation triplets\n"
     ]
    }
   ],
   "source": [
    "# Evaluate_Triplet_Accuracy(model, val_dataset)\n",
    "def evaluate_triplet_accuracy(model, dataset):\n",
    "    correct = 0\n",
    "    total = len(dataset)\n",
    "\n",
    "    for ex in dataset:\n",
    "        anchor, positive, negative = ex.texts\n",
    "\n",
    "        anchor_emb = model.encode(anchor, convert_to_tensor=True)\n",
    "        pos_emb = model.encode(positive, convert_to_tensor=True)\n",
    "        neg_emb = model.encode(negative, convert_to_tensor=True)\n",
    "\n",
    "        if cos_sim(anchor_emb, pos_emb) > cos_sim(anchor_emb, neg_emb):\n",
    "            correct += 1\n",
    "\n",
    "    accuracy = (correct / total) * 100\n",
    "    print(f\"\\n✅ Model Accuracy: {accuracy:.2f}% on {total} validation triplets\")\n",
    "\n",
    "# Evaluate the model\n",
    "evaluate_triplet_accuracy(model, val_dataset)"
   ]
  },
  {
   "cell_type": "code",
   "execution_count": null,
   "metadata": {},
   "outputs": [
    {
     "name": "stdout",
     "output_type": "stream",
     "text": [
      "✅ Positive Similarity: 0.8612 | ❌ Negative Similarity: 0.0175 | 📉 Diff: 0.8437\n",
      "✅ Positive Similarity: 0.8882 | ❌ Negative Similarity: -0.0880 | 📉 Diff: 0.9762\n",
      "✅ Positive Similarity: 0.9038 | ❌ Negative Similarity: -0.0963 | 📉 Diff: 1.0001\n",
      "✅ Positive Similarity: 0.9316 | ❌ Negative Similarity: 0.0314 | 📉 Diff: 0.9002\n",
      "✅ Positive Similarity: 0.8161 | ❌ Negative Similarity: 0.0473 | 📉 Diff: 0.7688\n"
     ]
    }
   ],
   "source": [
    "# Evaluate Embedding Quality\n",
    "for _ in range(5):\n",
    "    row = df_Triplets.sample(1).iloc[0]\n",
    "    anchor_emb = model.encode(row['anchor'], convert_to_tensor=True)\n",
    "    pos_emb = model.encode(row['positive'], convert_to_tensor=True)\n",
    "    neg_emb = model.encode(row['negative'], convert_to_tensor=True)\n",
    "\n",
    "    pos_sim = cos_sim(anchor_emb, pos_emb).item()\n",
    "    neg_sim = cos_sim(anchor_emb, neg_emb).item()\n",
    "    print(f\"✅ Positive Similarity: {pos_sim:.4f} | ❌ Negative Similarity: {neg_sim:.4f} | 📉 Diff: {pos_sim - neg_sim:.4f}\")"
   ]
  },
  {
   "cell_type": "code",
   "execution_count": null,
   "metadata": {},
   "outputs": [
    {
     "data": {
      "image/png": "[encoded data removed]",
      "text/plain": [
       "<Figure size 800x600 with 1 Axes>"
      ]
     },
     "metadata": {},
     "output_type": "display_data"
    }
   ],
   "source": [
    "# Visualize Embedding Space\n",
    "embs = model.encode(df_Triplets['anchor'].tolist()[:500])\n",
    "reduced = PCA(n_components=2).fit_transform(embs)\n",
    "\n",
    "plt.figure(figsize=(8,6))\n",
    "plt.scatter(reduced[:,0], reduced[:,1], alpha=0.7)\n",
    "plt.title(\"Movie Plot Embeddings Visualized\")\n",
    "plt.show()"
   ]
  },
  {
   "cell_type": "code",
   "execution_count": null,
   "metadata": {},
   "outputs": [],
   "source": [
    "model.save(\"C:\\MovieReommenderSystem\\SBERT_Movie_Recommender_v1\")"
   ]
  },
  {
   "cell_type": "markdown",
   "metadata": {},
   "source": [
    "# Embedding Vectros"
   ]
  },
  {
   "cell_type": "code",
   "execution_count": 17,
   "metadata": {},
   "outputs": [
    {
     "name": "stdout",
     "output_type": "stream",
     "text": [
      "Movie Count: 798029\n"
     ]
    }
   ],
   "source": [
    "# Load the Dataset\n",
    "df_movies = pd.read_csv(\"C:\\MovieReommenderSystem\\TMDB_movie_dataset_v12.csv\")\n",
    "print(f\"Movie Count: {len(df_movies)}\")"
   ]
  },
  {
   "cell_type": "code",
   "execution_count": 58,
   "metadata": {},
   "outputs": [
    {
     "name": "stdout",
     "output_type": "stream",
     "text": [
      "✅ Model loaded on cuda.\n"
     ]
    }
   ],
   "source": [
    "# Load the Fine-Tuned Model\n",
    "model = SentenceTransformer(\"C:\\MovieReommenderSystem\\SBERT_Movie_Recommender_v1\")\n",
    "\n",
    "# ✅ Move Model to GPU\n",
    "device = \"cuda\" if torch.cuda.is_available() else \"cpu\"\n",
    "model.to(device)\n",
    "\n",
    "print(f\"✅ Model loaded on {device}.\")"
   ]
  },
  {
   "cell_type": "code",
   "execution_count": null,
   "metadata": {},
   "outputs": [
    {
     "name": "stdout",
     "output_type": "stream",
     "text": [
      "🔄 Encoding 798029 movie plots...\n",
      "✅ Embeddings complete!\n"
     ]
    }
   ],
   "source": [
    "# Encode all overviews\n",
    "print(f\"🔄 Encoding {len(df_movies)} movie plots...\")\n",
    "movie_embeddings = model.encode(\n",
    "    df_movies[\"overview\"].tolist(),\n",
    "    batch_size=16,\n",
    "    show_progress_bar=True,\n",
    "    convert_to_numpy=True\n",
    ")\n",
    "\n",
    "print(\"✅ Embeddings complete!\")"
   ]
  },
  {
   "cell_type": "code",
   "execution_count": 7,
   "metadata": {},
   "outputs": [],
   "source": [
    "# Normalize embeddings for cosine similarity\n",
    "movie_embeddings = normalize(movie_embeddings, norm='l2', axis=1)"
   ]
  },
  {
   "cell_type": "code",
   "execution_count": 9,
   "metadata": {},
   "outputs": [
    {
     "name": "stdout",
     "output_type": "stream",
     "text": [
      "✅ Embeddings saved to 'movie_embeddings.npy'\n"
     ]
    }
   ],
   "source": [
    "# Save the embeddings\n",
    "np.save(\"movie_embeddings.npy\", movie_embeddings)\n",
    "print(\"✅ Embeddings saved to 'movie_embeddings.npy'\")"
   ]
  },
  {
   "cell_type": "code",
   "execution_count": 10,
   "metadata": {},
   "outputs": [
    {
     "name": "stdout",
     "output_type": "stream",
     "text": [
      "✅ Embeddings loaded! Shape: (798029, 384)\n"
     ]
    }
   ],
   "source": [
    "# Load the embeddings\n",
    "movie_embeddings = np.load(\"movie_embeddings.npy\")\n",
    "print(\"✅ Embeddings loaded! Shape:\", movie_embeddings.shape)"
   ]
  },
  {
   "cell_type": "markdown",
   "metadata": {},
   "source": [
    "# Building FIASS"
   ]
  },
  {
   "cell_type": "code",
   "execution_count": 12,
   "metadata": {},
   "outputs": [
    {
     "name": "stdout",
     "output_type": "stream",
     "text": [
      "🎯 FAISS index built with 798029 embeddings.\n"
     ]
    }
   ],
   "source": [
    "# Build the index\n",
    "dimension = movie_embeddings.shape[1]\n",
    "index = faiss.IndexFlatIP(dimension)  # Inner product = cosine similarity if vectors are normalized\n",
    "index.add(movie_embeddings)\n",
    "\n",
    "print(f\"🎯 FAISS index built with {index.ntotal} embeddings.\")"
   ]
  },
  {
   "cell_type": "code",
   "execution_count": 14,
   "metadata": {},
   "outputs": [],
   "source": [
    "faiss.write_index(index, \"movie_index.faiss\")\n",
    "np.save(\"movie_embeddings.npy\", movie_embeddings)"
   ]
  },
  {
   "cell_type": "code",
   "execution_count": 15,
   "metadata": {},
   "outputs": [],
   "source": [
    "# Load the FAISS index\n",
    "index = faiss.read_index(\"movie_index.faiss\")    # Index file saved earlier"
   ]
  },
  {
   "cell_type": "markdown",
   "metadata": {},
   "source": [
    "# Recommendation System"
   ]
  },
  {
   "cell_type": "code",
   "execution_count": 4,
   "metadata": {},
   "outputs": [
    {
     "name": "stdout",
     "output_type": "stream",
     "text": [
      "✅ Model loaded on cuda.\n"
     ]
    }
   ],
   "source": [
    "# 1. Load fine-tuned model\n",
    "model = SentenceTransformer(\"C:\\MovieReommenderSystem\\SBERT_Movie_Recommender_v1\")\n",
    "\n",
    "# ✅ Move Model to GPU\n",
    "device = \"cuda\" if torch.cuda.is_available() else \"cpu\"\n",
    "model.to(device)\n",
    "\n",
    "print(f\"✅ Model loaded on {device}.\")"
   ]
  },
  {
   "cell_type": "code",
   "execution_count": 5,
   "metadata": {},
   "outputs": [],
   "source": [
    "# 2. Load movie metadata and embeddings\n",
    "df = pd.read_csv(\"C:\\MovieReommenderSystem\\TMDB_movie_dataset_v12.csv\")\n",
    "movie_embeddings = np.load(\"C:\\MovieReommenderSystem\\movie_embeddings.npy\") # Embeddings saved earlier"
   ]
  },
  {
   "cell_type": "code",
   "execution_count": 8,
   "metadata": {},
   "outputs": [],
   "source": [
    "# 3. Load the FAISS index\n",
    "index = faiss.read_index(r\"C:\\Users\\movie-recommender\\indexes\\movie_index.faiss\") # Index file saved earlier"
   ]
  },
  {
   "cell_type": "code",
   "execution_count": 9,
   "metadata": {},
   "outputs": [
    {
     "name": "stdout",
     "output_type": "stream",
     "text": [
      "🎬 Franchise Detection Complete!\n"
     ]
    }
   ],
   "source": [
    "def detect_franchise(title, overview):\n",
    "    # 🎬 Franchise Keywords for Matching\n",
    "    franchise_keywords = {\n",
    "\n",
    "        \"Marvel\": [\n",
    "            \"avengers\", \"iron man\", \"captain america\", \"thor\", \"hulk\", \"black widow\", \"ant-man\", \"black panther\", \n",
    "            \"spider-man\", \"dr. strange\", \"doctor strange\", \"shang-chi\", \"guardians of the galaxy\", \"eternals\", \n",
    "            \"wanda\", \"marvel\", \"ms. marvel\", \"falcon\", \"winter soldier\", \"multiverse\", \"kang\", \"loki\"\n",
    "        ],\n",
    "        \"DC\": [\n",
    "            \"batman\", \"superman\", \"wonder woman\", \"aquaman\", \"flash\", \"justice league\", \"suicide squad\", \n",
    "            \"joker\", \"shazam\", \"black adam\", \"dc\", \"zatanna\", \"cyborg\", \"green lantern\", \"penguin\", \"Man of Steel\", \"Superman\"\n",
    "        ],\n",
    "        \"Harry Potter\": [\n",
    "            \"harry potter\", \"hogwarts\", \"voldemort\", \"dumbledore\", \"hermione\", \"ron weasley\", \n",
    "            \"fantastic beasts\", \"grindelwald\", \"quidditch\", \"slytherin\", \"gryffindor\", \"hufflepuff\", \"ravenclaw\"\n",
    "        ],\n",
    "        \"Lord of the Rings\": [\n",
    "            \"lord of the rings\", \"frodo\", \"gandalf\", \"aragorn\", \"middle earth\", \"sauron\", \n",
    "            \"legolas\", \"hobbit\", \"bilbo\", \"tolkien\", \"elrond\", \"mordor\"\n",
    "        ],\n",
    "        \"Star Wars\": [\n",
    "            \"star wars\", \"skywalker\", \"darth vader\", \"yoda\", \"jedi\", \"sith\", \"death star\", \n",
    "            \"grogu\", \"mandalorian\", \"obi-wan\", \"kenobi\", \"dooku\", \"padmé\", \"anakin\", \"rey\", \"bb-8\", \"galactic empire\"\n",
    "        ],\n",
    "        \"Fast & Furious\": [\n",
    "            \"fast and furious\", \"fast & furious\", \"dom toretto\", \"vin diesel\", \"furious\", \"f9\", \"fast x\", \n",
    "            \"tokyo drift\", \"ludacris\", \"hobs and shaw\"\n",
    "        ],\n",
    "        \"Transformers\": [\n",
    "            \"transformers\", \"bumblebee\", \"optimus prime\", \"megatron\", \"autobot\", \"decepticon\", \n",
    "            \"rise of the beasts\"\n",
    "        ],\n",
    "        \"Twilight\": [\n",
    "            \"twilight\", \"edward cullen\", \"bella swan\", \"jacob black\", \"vampire\", \"werewolf\", \"breaking dawn\"\n",
    "        ],\n",
    "        \"The Hunger Games\": [\n",
    "            \"hunger games\", \"katniss everdeen\", \"peeta\", \"panem\", \"district\", \"catching fire\", \"mockingjay\", \"snow\"\n",
    "        ],\n",
    "        \"James Bond\": [\n",
    "            \"james bond\", \"007\", \"spectre\", \"quantum of solace\", \"skyfall\", \"casino royale\", \n",
    "            \"no time to die\", \"moneypenny\", \"q\", \"mi6\"\n",
    "        ],\n",
    "        \"Pirates of the Caribbean\": [\n",
    "            \"pirates of the caribbean\", \"jack sparrow\", \"black pearl\", \"davy jones\", \n",
    "            \"will turner\", \"elizabeth swann\", \"barbossa\"\n",
    "        ],\n",
    "        \"Mission: Impossible\": [\n",
    "            \"mission impossible\", \"ethan hunt\", \"imf\", \"ghost protocol\", \"rogue nation\", \"fallout\", \n",
    "            \"dead reckoning\"\n",
    "        ],\n",
    "        \"John Wick\": [\n",
    "            \"john wick\", \"continental\", \"baba yaga\", \"high table\", \"dog\", \"assassin\"\n",
    "        ],\n",
    "        \"The Matrix\": [\n",
    "            \"matrix\", \"neo\", \"trinity\", \"morpheus\", \"agent smith\", \"zion\", \"red pill\", \"blue pill\"\n",
    "        ],\n",
    "        \"Despicable Me\": [\n",
    "            \"despicable me\", \"minions\", \"gru\", \"agnès\", \"vector\", \"gru jr\"\n",
    "        ],\n",
    "        \"Shrek\": [\n",
    "            \"shrek\", \"donkey\", \"fiona\", \"far far away\", \"puss in boots\", \"lord farquaad\"\n",
    "        ],\n",
    "        \"Frozen\": [\n",
    "            \"frozen\", \"elsa\", \"anna\", \"olaf\", \"arendelle\", \"let it go\"\n",
    "        ],\n",
    "        \"Cars\": [\n",
    "            \"cars\", \"lightning mcqueen\", \"mater\", \"radiator springs\", \"doc hudson\"\n",
    "        ],\n",
    "        \"Jurassic Park\": [\n",
    "            \"jurassic park\", \"jurassic world\", \"raptor\", \"velociraptor\", \"t-rex\", \"indominus\", \n",
    "            \"dr. grant\", \"ian malcolm\", \"claire dearing\"\n",
    "        ],\n",
    "    }\n",
    "    \n",
    "    # Normalize keywords to lowercase for reliable matching\n",
    "    franchise_keywords = {\n",
    "        franchise: [kw.lower() for kw in keywords]\n",
    "        for franchise, keywords in franchise_keywords.items()\n",
    "    }\n",
    "\n",
    "    text = (title + \" \" + overview).lower()\n",
    "\n",
    "    matches = {}\n",
    "    for franchise, keywords in franchise_keywords.items():\n",
    "        for keyword in keywords:\n",
    "            if keyword in text:\n",
    "                matches[franchise] = matches.get(franchise, 0) + 1\n",
    "\n",
    "    if not matches:\n",
    "        return \"Unknown\"\n",
    "\n",
    "    # Return the franchise with the most matches\n",
    "    return max(matches, key=matches.get)\n",
    "\n",
    "df['franchise'] = df.apply(lambda row: detect_franchise(row['title'], row['overview']), axis=1)\n",
    "print(\"🎬 Franchise Detection Complete!\")"
   ]
  },
  {
   "cell_type": "code",
   "execution_count": 10,
   "metadata": {},
   "outputs": [],
   "source": [
    "def recommend(query, use_movie_name=True, top_k=10,\n",
    "              filter_by_nsfw=True,\n",
    "              filter_by_franchise=False,\n",
    "              filter_by_genre=False):\n",
    "    \n",
    "    # Get input embedding\n",
    "    if use_movie_name:\n",
    "        movie_row = df[df[\"title\"].str.lower() == query.lower()]\n",
    "        if movie_row.empty:\n",
    "            return []\n",
    "        movie_row = movie_row.iloc[0]\n",
    "        overview = movie_row[\"overview\"]\n",
    "        input_emb = model.encode(overview, convert_to_tensor=True)\n",
    "        detected_franchise = detect_franchise(movie_row[\"title\"], overview)\n",
    "        input_genres = set(movie_row[\"genres\"]) if isinstance(movie_row[\"genres\"], list) else set()\n",
    "        if \"Unknown\" in input_genres:\n",
    "            input_genres = set()\n",
    "    else:\n",
    "        overview = query\n",
    "        input_emb = model.encode(overview, convert_to_tensor=True)\n",
    "        detected_franchise = detect_franchise(\"\", overview)\n",
    "        input_genres = set()  # can't filter genres from free text\n",
    "\n",
    "    # FAISS Search\n",
    "    input_emb_np = input_emb.cpu().detach().numpy().reshape(1, -1)\n",
    "    _, indices = index.search(input_emb_np, top_k * 20)\n",
    "    faiss_results = df.iloc[indices[0]].copy()\n",
    "    faiss_embeddings = movie_embeddings[indices[0]]\n",
    "\n",
    "    # Re-rank by similarity and popularity\n",
    "    sims = cos_sim(input_emb, torch.tensor(faiss_embeddings).to(input_emb.device)).squeeze().tolist()\n",
    "    popularity = faiss_results[\"popularity\"].fillna(0).values\n",
    "    rerank_score = [sim * np.log1p(pop) for sim, pop in zip(sims, popularity)]\n",
    "    faiss_results[\"score\"] = rerank_score\n",
    "\n",
    "    # Franchise Filter\n",
    "    if filter_by_franchise and detected_franchise != \"Unknown\":\n",
    "        faiss_results[\"franchise\"] = faiss_results.apply(\n",
    "            lambda row: detect_franchise(row[\"title\"], row[\"overview\"]), axis=1)\n",
    "        faiss_results = faiss_results[faiss_results[\"franchise\"] == detected_franchise]\n",
    "\n",
    "    # Genre Filter\n",
    "    if filter_by_genre and input_genres:\n",
    "        def genre_overlap(g):\n",
    "            if isinstance(g, list) and \"Unknown\" not in g:\n",
    "                return len(input_genres & set(g))\n",
    "            return 0  # allow unknown genres, they just get 0 overlap\n",
    "        faiss_results[\"genre_overlap\"] = faiss_results[\"genres\"].apply(genre_overlap)\n",
    "        faiss_results = faiss_results[faiss_results[\"genre_overlap\"] >= 2]\n",
    "\n",
    "\n",
    "    # Remove input movie from results\n",
    "    if use_movie_name:\n",
    "        faiss_results = faiss_results[faiss_results[\"title\"].str.lower() != query.lower()]\n",
    "\n",
    "    # Final top-k nicely formatted DataFrame\n",
    "    top_results = faiss_results.sort_values(by=\"score\", ascending=False).head(top_k)\n",
    "    \n",
    "    # Ensure 'franchise' exists before returning\n",
    "    if \"franchise\" not in top_results.columns:\n",
    "        top_results[\"franchise\"] = \"Unknown\"\n",
    "\n",
    "    return top_results[[\"title\", \"genres\", \"franchise\", \"popularity\", \"id\"]].reset_index(drop=True)"
   ]
  },
  {
   "cell_type": "code",
   "execution_count": 12,
   "metadata": {},
   "outputs": [
    {
     "data": {
      "text/html": [
       "<div>\n",
       "<style scoped>\n",
       "    .dataframe tbody tr th:only-of-type {\n",
       "        vertical-align: middle;\n",
       "    }\n",
       "\n",
       "    .dataframe tbody tr th {\n",
       "        vertical-align: top;\n",
       "    }\n",
       "\n",
       "    .dataframe thead th {\n",
       "        text-align: right;\n",
       "    }\n",
       "</style>\n",
       "<table border=\"1\" class=\"dataframe\">\n",
       "  <thead>\n",
       "    <tr style=\"text-align: right;\">\n",
       "      <th></th>\n",
       "      <th>title</th>\n",
       "      <th>genres</th>\n",
       "      <th>franchise</th>\n",
       "      <th>popularity</th>\n",
       "      <th>id</th>\n",
       "    </tr>\n",
       "  </thead>\n",
       "  <tbody>\n",
       "    <tr>\n",
       "      <th>0</th>\n",
       "      <td>Bunker</td>\n",
       "      <td>['Horror', 'Thriller', 'War']</td>\n",
       "      <td>Unknown</td>\n",
       "      <td>339.829</td>\n",
       "      <td>1032666</td>\n",
       "    </tr>\n",
       "    <tr>\n",
       "      <th>1</th>\n",
       "      <td>Warhorse One</td>\n",
       "      <td>['Action', 'Drama', 'War']</td>\n",
       "      <td>Unknown</td>\n",
       "      <td>230.210</td>\n",
       "      <td>1076487</td>\n",
       "    </tr>\n",
       "    <tr>\n",
       "      <th>2</th>\n",
       "      <td>Wrong Turn 2: Dead End</td>\n",
       "      <td>['Horror', 'Thriller']</td>\n",
       "      <td>Unknown</td>\n",
       "      <td>50.162</td>\n",
       "      <td>13186</td>\n",
       "    </tr>\n",
       "    <tr>\n",
       "      <th>3</th>\n",
       "      <td>1917</td>\n",
       "      <td>['War', 'History', 'Thriller']</td>\n",
       "      <td>Unknown</td>\n",
       "      <td>44.356</td>\n",
       "      <td>530915</td>\n",
       "    </tr>\n",
       "    <tr>\n",
       "      <th>4</th>\n",
       "      <td>Greyhound</td>\n",
       "      <td>['War', 'Action', 'Drama']</td>\n",
       "      <td>Star Wars</td>\n",
       "      <td>23.324</td>\n",
       "      <td>516486</td>\n",
       "    </tr>\n",
       "    <tr>\n",
       "      <th>5</th>\n",
       "      <td>The Guns of Navarone</td>\n",
       "      <td>['War', 'Action', 'Adventure']</td>\n",
       "      <td>Unknown</td>\n",
       "      <td>21.499</td>\n",
       "      <td>10911</td>\n",
       "    </tr>\n",
       "    <tr>\n",
       "      <th>6</th>\n",
       "      <td>WarHunt</td>\n",
       "      <td>['Action', 'Horror', 'Thriller', 'War', 'Fanta...</td>\n",
       "      <td>James Bond</td>\n",
       "      <td>20.925</td>\n",
       "      <td>697799</td>\n",
       "    </tr>\n",
       "    <tr>\n",
       "      <th>7</th>\n",
       "      <td>Soldier</td>\n",
       "      <td>['Science Fiction', 'Action']</td>\n",
       "      <td>Unknown</td>\n",
       "      <td>18.605</td>\n",
       "      <td>9425</td>\n",
       "    </tr>\n",
       "    <tr>\n",
       "      <th>8</th>\n",
       "      <td>Gallipoli</td>\n",
       "      <td>['War', 'History', 'Drama']</td>\n",
       "      <td>Unknown</td>\n",
       "      <td>13.874</td>\n",
       "      <td>11646</td>\n",
       "    </tr>\n",
       "    <tr>\n",
       "      <th>9</th>\n",
       "      <td>Hell's Angels</td>\n",
       "      <td>['Drama', 'War', 'Action']</td>\n",
       "      <td>Unknown</td>\n",
       "      <td>10.922</td>\n",
       "      <td>22301</td>\n",
       "    </tr>\n",
       "  </tbody>\n",
       "</table>\n",
       "</div>"
      ],
      "text/plain": [
       "                    title                                             genres  \\\n",
       "0                  Bunker                      ['Horror', 'Thriller', 'War']   \n",
       "1            Warhorse One                         ['Action', 'Drama', 'War']   \n",
       "2  Wrong Turn 2: Dead End                             ['Horror', 'Thriller']   \n",
       "3                    1917                     ['War', 'History', 'Thriller']   \n",
       "4               Greyhound                         ['War', 'Action', 'Drama']   \n",
       "5    The Guns of Navarone                     ['War', 'Action', 'Adventure']   \n",
       "6                 WarHunt  ['Action', 'Horror', 'Thriller', 'War', 'Fanta...   \n",
       "7                 Soldier                      ['Science Fiction', 'Action']   \n",
       "8               Gallipoli                        ['War', 'History', 'Drama']   \n",
       "9           Hell's Angels                         ['Drama', 'War', 'Action']   \n",
       "\n",
       "    franchise  popularity       id  \n",
       "0     Unknown     339.829  1032666  \n",
       "1     Unknown     230.210  1076487  \n",
       "2     Unknown      50.162    13186  \n",
       "3     Unknown      44.356   530915  \n",
       "4   Star Wars      23.324   516486  \n",
       "5     Unknown      21.499    10911  \n",
       "6  James Bond      20.925   697799  \n",
       "7     Unknown      18.605     9425  \n",
       "8     Unknown      13.874    11646  \n",
       "9     Unknown      10.922    22301  "
      ]
     },
     "execution_count": 12,
     "metadata": {},
     "output_type": "execute_result"
    }
   ],
   "source": [
    "recommend(\"Saving Private Ryan\", use_movie_name=True, filter_by_franchise=False, filter_by_genre=False, top_k=10)"
   ]
  },
  {
   "cell_type": "code",
   "execution_count": 12,
   "metadata": {},
   "outputs": [
    {
     "data": {
      "text/html": [
       "<div>\n",
       "<style scoped>\n",
       "    .dataframe tbody tr th:only-of-type {\n",
       "        vertical-align: middle;\n",
       "    }\n",
       "\n",
       "    .dataframe tbody tr th {\n",
       "        vertical-align: top;\n",
       "    }\n",
       "\n",
       "    .dataframe thead th {\n",
       "        text-align: right;\n",
       "    }\n",
       "</style>\n",
       "<table border=\"1\" class=\"dataframe\">\n",
       "  <thead>\n",
       "    <tr style=\"text-align: right;\">\n",
       "      <th></th>\n",
       "      <th>title</th>\n",
       "      <th>genres</th>\n",
       "      <th>franchise</th>\n",
       "      <th>popularity</th>\n",
       "      <th>id</th>\n",
       "    </tr>\n",
       "  </thead>\n",
       "  <tbody>\n",
       "    <tr>\n",
       "      <th>0</th>\n",
       "      <td>Avengers: Infinity War</td>\n",
       "      <td>['Adventure', 'Action', 'Science Fiction']</td>\n",
       "      <td>Marvel</td>\n",
       "      <td>154.340</td>\n",
       "      <td>299536</td>\n",
       "    </tr>\n",
       "    <tr>\n",
       "      <th>1</th>\n",
       "      <td>Avengers: Age of Ultron</td>\n",
       "      <td>['Action', 'Adventure', 'Science Fiction']</td>\n",
       "      <td>Marvel</td>\n",
       "      <td>96.565</td>\n",
       "      <td>99861</td>\n",
       "    </tr>\n",
       "    <tr>\n",
       "      <th>2</th>\n",
       "      <td>Captain America: Civil War</td>\n",
       "      <td>['Adventure', 'Action', 'Science Fiction']</td>\n",
       "      <td>Marvel</td>\n",
       "      <td>70.741</td>\n",
       "      <td>271110</td>\n",
       "    </tr>\n",
       "    <tr>\n",
       "      <th>3</th>\n",
       "      <td>Thor: The Dark World</td>\n",
       "      <td>['Action', 'Adventure', 'Fantasy']</td>\n",
       "      <td>Marvel</td>\n",
       "      <td>59.968</td>\n",
       "      <td>76338</td>\n",
       "    </tr>\n",
       "    <tr>\n",
       "      <th>4</th>\n",
       "      <td>Captain Marvel</td>\n",
       "      <td>['Action', 'Adventure', 'Science Fiction']</td>\n",
       "      <td>Marvel</td>\n",
       "      <td>50.399</td>\n",
       "      <td>299537</td>\n",
       "    </tr>\n",
       "  </tbody>\n",
       "</table>\n",
       "</div>"
      ],
      "text/plain": [
       "                        title                                      genres  \\\n",
       "0      Avengers: Infinity War  ['Adventure', 'Action', 'Science Fiction']   \n",
       "1     Avengers: Age of Ultron  ['Action', 'Adventure', 'Science Fiction']   \n",
       "2  Captain America: Civil War  ['Adventure', 'Action', 'Science Fiction']   \n",
       "3        Thor: The Dark World          ['Action', 'Adventure', 'Fantasy']   \n",
       "4              Captain Marvel  ['Action', 'Adventure', 'Science Fiction']   \n",
       "\n",
       "  franchise  popularity      id  \n",
       "0    Marvel     154.340  299536  \n",
       "1    Marvel      96.565   99861  \n",
       "2    Marvel      70.741  271110  \n",
       "3    Marvel      59.968   76338  \n",
       "4    Marvel      50.399  299537  "
      ]
     },
     "execution_count": 12,
     "metadata": {},
     "output_type": "execute_result"
    }
   ],
   "source": [
    "recommend(\"Avengers: endgame\", use_movie_name=True, filter_by_franchise=True, filter_by_genre=True, top_k=5)"
   ]
  },
  {
   "cell_type": "code",
   "execution_count": 10,
   "metadata": {},
   "outputs": [
    {
     "data": {
      "text/html": [
       "<div>\n",
       "<style scoped>\n",
       "    .dataframe tbody tr th:only-of-type {\n",
       "        vertical-align: middle;\n",
       "    }\n",
       "\n",
       "    .dataframe tbody tr th {\n",
       "        vertical-align: top;\n",
       "    }\n",
       "\n",
       "    .dataframe thead th {\n",
       "        text-align: right;\n",
       "    }\n",
       "</style>\n",
       "<table border=\"1\" class=\"dataframe\">\n",
       "  <thead>\n",
       "    <tr style=\"text-align: right;\">\n",
       "      <th></th>\n",
       "      <th>title</th>\n",
       "      <th>genres</th>\n",
       "      <th>franchise</th>\n",
       "      <th>popularity</th>\n",
       "      <th>id</th>\n",
       "    </tr>\n",
       "  </thead>\n",
       "  <tbody>\n",
       "    <tr>\n",
       "      <th>0</th>\n",
       "      <td>John Wick: Chapter 4</td>\n",
       "      <td>['Action', 'Thriller', 'Crime']</td>\n",
       "      <td>John Wick</td>\n",
       "      <td>482.538</td>\n",
       "      <td>603692</td>\n",
       "    </tr>\n",
       "    <tr>\n",
       "      <th>1</th>\n",
       "      <td>John Wick: Chapter 2</td>\n",
       "      <td>['Action', 'Thriller', 'Crime']</td>\n",
       "      <td>John Wick</td>\n",
       "      <td>88.285</td>\n",
       "      <td>324552</td>\n",
       "    </tr>\n",
       "    <tr>\n",
       "      <th>2</th>\n",
       "      <td>John Wick: Chapter 3 - Parabellum</td>\n",
       "      <td>['Action', 'Thriller', 'Crime']</td>\n",
       "      <td>John Wick</td>\n",
       "      <td>80.825</td>\n",
       "      <td>458156</td>\n",
       "    </tr>\n",
       "    <tr>\n",
       "      <th>3</th>\n",
       "      <td>Live Free or Die Hard</td>\n",
       "      <td>['Action', 'Thriller']</td>\n",
       "      <td>Unknown</td>\n",
       "      <td>33.523</td>\n",
       "      <td>1571</td>\n",
       "    </tr>\n",
       "    <tr>\n",
       "      <th>4</th>\n",
       "      <td>Snitch</td>\n",
       "      <td>['Thriller', 'Drama', 'Action']</td>\n",
       "      <td>Unknown</td>\n",
       "      <td>26.369</td>\n",
       "      <td>134411</td>\n",
       "    </tr>\n",
       "    <tr>\n",
       "      <th>5</th>\n",
       "      <td>Lord of the Streets</td>\n",
       "      <td>['Action']</td>\n",
       "      <td>Unknown</td>\n",
       "      <td>23.303</td>\n",
       "      <td>965839</td>\n",
       "    </tr>\n",
       "    <tr>\n",
       "      <th>6</th>\n",
       "      <td>Stripes</td>\n",
       "      <td>['Action', 'Comedy']</td>\n",
       "      <td>Unknown</td>\n",
       "      <td>19.950</td>\n",
       "      <td>10890</td>\n",
       "    </tr>\n",
       "    <tr>\n",
       "      <th>7</th>\n",
       "      <td>Marked for Death</td>\n",
       "      <td>['Action', 'Crime']</td>\n",
       "      <td>James Bond</td>\n",
       "      <td>18.504</td>\n",
       "      <td>10173</td>\n",
       "    </tr>\n",
       "    <tr>\n",
       "      <th>8</th>\n",
       "      <td>Last Man Standing</td>\n",
       "      <td>['Crime', 'Action', 'Western']</td>\n",
       "      <td>Unknown</td>\n",
       "      <td>14.621</td>\n",
       "      <td>9333</td>\n",
       "    </tr>\n",
       "    <tr>\n",
       "      <th>9</th>\n",
       "      <td>Rumble Fish</td>\n",
       "      <td>['Crime', 'Drama']</td>\n",
       "      <td>Unknown</td>\n",
       "      <td>15.191</td>\n",
       "      <td>232</td>\n",
       "    </tr>\n",
       "  </tbody>\n",
       "</table>\n",
       "</div>"
      ],
      "text/plain": [
       "                               title                           genres  \\\n",
       "0               John Wick: Chapter 4  ['Action', 'Thriller', 'Crime']   \n",
       "1               John Wick: Chapter 2  ['Action', 'Thriller', 'Crime']   \n",
       "2  John Wick: Chapter 3 - Parabellum  ['Action', 'Thriller', 'Crime']   \n",
       "3              Live Free or Die Hard           ['Action', 'Thriller']   \n",
       "4                             Snitch  ['Thriller', 'Drama', 'Action']   \n",
       "5                Lord of the Streets                       ['Action']   \n",
       "6                            Stripes             ['Action', 'Comedy']   \n",
       "7                   Marked for Death              ['Action', 'Crime']   \n",
       "8                  Last Man Standing   ['Crime', 'Action', 'Western']   \n",
       "9                        Rumble Fish               ['Crime', 'Drama']   \n",
       "\n",
       "    franchise  popularity      id  \n",
       "0   John Wick     482.538  603692  \n",
       "1   John Wick      88.285  324552  \n",
       "2   John Wick      80.825  458156  \n",
       "3     Unknown      33.523    1571  \n",
       "4     Unknown      26.369  134411  \n",
       "5     Unknown      23.303  965839  \n",
       "6     Unknown      19.950   10890  \n",
       "7  James Bond      18.504   10173  \n",
       "8     Unknown      14.621    9333  \n",
       "9     Unknown      15.191     232  "
      ]
     },
     "execution_count": 10,
     "metadata": {},
     "output_type": "execute_result"
    }
   ],
   "source": [
    "recommend(\"John Wick\", use_movie_name=True, filter_by_genre=False, filter_by_franchise=False, top_k=10)"
   ]
  },
  {
   "cell_type": "code",
   "execution_count": 11,
   "metadata": {},
   "outputs": [
    {
     "data": {
      "text/html": [
       "<div>\n",
       "<style scoped>\n",
       "    .dataframe tbody tr th:only-of-type {\n",
       "        vertical-align: middle;\n",
       "    }\n",
       "\n",
       "    .dataframe tbody tr th {\n",
       "        vertical-align: top;\n",
       "    }\n",
       "\n",
       "    .dataframe thead th {\n",
       "        text-align: right;\n",
       "    }\n",
       "</style>\n",
       "<table border=\"1\" class=\"dataframe\">\n",
       "  <thead>\n",
       "    <tr style=\"text-align: right;\">\n",
       "      <th></th>\n",
       "      <th>title</th>\n",
       "      <th>genres</th>\n",
       "      <th>franchise</th>\n",
       "      <th>popularity</th>\n",
       "      <th>id</th>\n",
       "    </tr>\n",
       "  </thead>\n",
       "  <tbody>\n",
       "    <tr>\n",
       "      <th>0</th>\n",
       "      <td>Return of the Jedi</td>\n",
       "      <td>['Adventure', 'Action', 'Science Fiction']</td>\n",
       "      <td>Star Wars</td>\n",
       "      <td>40.104</td>\n",
       "      <td>1892</td>\n",
       "    </tr>\n",
       "    <tr>\n",
       "      <th>1</th>\n",
       "      <td>Star Wars: The Force Awakens</td>\n",
       "      <td>['Adventure', 'Action', 'Science Fiction']</td>\n",
       "      <td>Star Wars</td>\n",
       "      <td>66.772</td>\n",
       "      <td>140607</td>\n",
       "    </tr>\n",
       "    <tr>\n",
       "      <th>2</th>\n",
       "      <td>Star Wars: Episode III - Revenge of the Sith</td>\n",
       "      <td>['Adventure', 'Action', 'Science Fiction']</td>\n",
       "      <td>Star Wars</td>\n",
       "      <td>41.215</td>\n",
       "      <td>1895</td>\n",
       "    </tr>\n",
       "    <tr>\n",
       "      <th>3</th>\n",
       "      <td>Mortal Kombat: Annihilation</td>\n",
       "      <td>['Action', 'Fantasy', 'Science Fiction']</td>\n",
       "      <td>Unknown</td>\n",
       "      <td>31.851</td>\n",
       "      <td>9823</td>\n",
       "    </tr>\n",
       "    <tr>\n",
       "      <th>4</th>\n",
       "      <td>Star Wars: Episode I - The Phantom Menace</td>\n",
       "      <td>['Adventure', 'Action', 'Science Fiction']</td>\n",
       "      <td>Star Wars</td>\n",
       "      <td>46.845</td>\n",
       "      <td>1893</td>\n",
       "    </tr>\n",
       "    <tr>\n",
       "      <th>5</th>\n",
       "      <td>The Empire Strikes Back</td>\n",
       "      <td>['Adventure', 'Action', 'Science Fiction']</td>\n",
       "      <td>Star Wars</td>\n",
       "      <td>35.265</td>\n",
       "      <td>1891</td>\n",
       "    </tr>\n",
       "    <tr>\n",
       "      <th>6</th>\n",
       "      <td>The Old Guard</td>\n",
       "      <td>['Action', 'Fantasy']</td>\n",
       "      <td>Unknown</td>\n",
       "      <td>19.808</td>\n",
       "      <td>547016</td>\n",
       "    </tr>\n",
       "    <tr>\n",
       "      <th>7</th>\n",
       "      <td>Pretty Guardian Sailor Moon Cosmos The Movie P...</td>\n",
       "      <td>['Animation']</td>\n",
       "      <td>Unknown</td>\n",
       "      <td>19.515</td>\n",
       "      <td>968868</td>\n",
       "    </tr>\n",
       "    <tr>\n",
       "      <th>8</th>\n",
       "      <td>Vikingdom</td>\n",
       "      <td>['Adventure']</td>\n",
       "      <td>Unknown</td>\n",
       "      <td>11.106</td>\n",
       "      <td>100542</td>\n",
       "    </tr>\n",
       "    <tr>\n",
       "      <th>9</th>\n",
       "      <td>RE:BORN</td>\n",
       "      <td>['Action', 'Crime']</td>\n",
       "      <td>Unknown</td>\n",
       "      <td>12.632</td>\n",
       "      <td>408866</td>\n",
       "    </tr>\n",
       "  </tbody>\n",
       "</table>\n",
       "</div>"
      ],
      "text/plain": [
       "                                               title  \\\n",
       "0                                 Return of the Jedi   \n",
       "1                       Star Wars: The Force Awakens   \n",
       "2       Star Wars: Episode III - Revenge of the Sith   \n",
       "3                        Mortal Kombat: Annihilation   \n",
       "4          Star Wars: Episode I - The Phantom Menace   \n",
       "5                            The Empire Strikes Back   \n",
       "6                                      The Old Guard   \n",
       "7  Pretty Guardian Sailor Moon Cosmos The Movie P...   \n",
       "8                                          Vikingdom   \n",
       "9                                            RE:BORN   \n",
       "\n",
       "                                       genres  franchise  popularity      id  \n",
       "0  ['Adventure', 'Action', 'Science Fiction']  Star Wars      40.104    1892  \n",
       "1  ['Adventure', 'Action', 'Science Fiction']  Star Wars      66.772  140607  \n",
       "2  ['Adventure', 'Action', 'Science Fiction']  Star Wars      41.215    1895  \n",
       "3    ['Action', 'Fantasy', 'Science Fiction']    Unknown      31.851    9823  \n",
       "4  ['Adventure', 'Action', 'Science Fiction']  Star Wars      46.845    1893  \n",
       "5  ['Adventure', 'Action', 'Science Fiction']  Star Wars      35.265    1891  \n",
       "6                       ['Action', 'Fantasy']    Unknown      19.808  547016  \n",
       "7                               ['Animation']    Unknown      19.515  968868  \n",
       "8                               ['Adventure']    Unknown      11.106  100542  \n",
       "9                         ['Action', 'Crime']    Unknown      12.632  408866  "
      ]
     },
     "execution_count": 11,
     "metadata": {},
     "output_type": "execute_result"
    }
   ],
   "source": [
    "recommend(\"A young Jedi confronts the dark side, as rebels launch a final attack on the Empires new Death Star.\", use_movie_name=False, filter_by_franchise=False, filter_by_genre=True, top_k=10)"
   ]
  },
  {
   "cell_type": "code",
   "execution_count": 23,
   "metadata": {},
   "outputs": [],
   "source": [
    "import pandas as pd\n",
    "import ast\n",
    "\n",
    "# convert stringified lists to actual Python lists\n",
    "def parse_genres(val):\n",
    "    try:\n",
    "        return ast.literal_eval(val) if isinstance(val, str) else val\n",
    "    except:\n",
    "        return []\n",
    "\n",
    "df[\"genres\"] = df[\"genres\"].apply(parse_genres)\n"
   ]
  },
  {
   "cell_type": "markdown",
   "metadata": {},
   "source": [
    "# Anvil"
   ]
  },
  {
   "cell_type": "code",
   "execution_count": 24,
   "metadata": {},
   "outputs": [],
   "source": [
    "import anvil.server\n",
    "\n",
    "anvil.server.connect(\"server_HGQ7XT54EJ2WECY25HCQSMRF-CBCKNDJYZVRIVQRL\")"
   ]
  },
  {
   "cell_type": "code",
   "execution_count": 25,
   "metadata": {},
   "outputs": [
    {
     "name": "stdout",
     "output_type": "stream",
     "text": [
      "Warning: a callable with the name 'get_recommendations' has already been registered (previously by '__main__.get_recommendations' now by '__main__.get_recommendations').\n"
     ]
    }
   ],
   "source": [
    "@anvil.server.callable\n",
    "def get_recommendations(\n",
    "    query,\n",
    "    use_movie_name=True,\n",
    "    top_k=10,\n",
    "    filter_by_franchise=False,\n",
    "    filter_by_genre=False,\n",
    "):\n",
    "    try:\n",
    "        results = recommend(\n",
    "            query,\n",
    "            use_movie_name=use_movie_name,\n",
    "            top_k=top_k,\n",
    "            filter_by_franchise=filter_by_franchise,\n",
    "            filter_by_genre=filter_by_genre,\n",
    "            \n",
    "        )\n",
    "        return results.to_dict(orient=\"records\")\n",
    "    except Exception as e:\n",
    "        return [{\"title\": \"Error\", \"genres\": [str(e)], \"franchise\": \"\", \"popularity\": 0}]\n"
   ]
  },
  {
   "cell_type": "code",
   "execution_count": 30,
   "metadata": {},
   "outputs": [
    {
     "ename": "KeyboardInterrupt",
     "evalue": "",
     "output_type": "error",
     "traceback": [
      "\u001b[1;31m---------------------------------------------------------------------------\u001b[0m",
      "\u001b[1;31mKeyboardInterrupt\u001b[0m                         Traceback (most recent call last)",
      "Cell \u001b[1;32mIn[30], line 1\u001b[0m\n\u001b[1;32m----> 1\u001b[0m \u001b[43manvil\u001b[49m\u001b[38;5;241;43m.\u001b[39;49m\u001b[43mserver\u001b[49m\u001b[38;5;241;43m.\u001b[39;49m\u001b[43mwait_forever\u001b[49m\u001b[43m(\u001b[49m\u001b[43m)\u001b[49m\n",
      "File \u001b[1;32mc:\\Windows\\System32\\ai_env\\lib\\site-packages\\anvil\\server.py:448\u001b[0m, in \u001b[0;36mwait_forever\u001b[1;34m()\u001b[0m\n\u001b[0;32m    446\u001b[0m _get_connection()\n\u001b[0;32m    447\u001b[0m \u001b[38;5;28;01mwhile\u001b[39;00m \u001b[38;5;28;01mTrue\u001b[39;00m:\n\u001b[1;32m--> 448\u001b[0m     \u001b[43mtime\u001b[49m\u001b[38;5;241;43m.\u001b[39;49m\u001b[43msleep\u001b[49m\u001b[43m(\u001b[49m\u001b[38;5;241;43m1\u001b[39;49m\u001b[43m)\u001b[49m\n",
      "\u001b[1;31mKeyboardInterrupt\u001b[0m: "
     ]
    }
   ],
   "source": [
    "anvil.server.wait_forever()"
   ]
  }
 ],
 "metadata": {
  "kernelspec": {
   "display_name": "ai_env",
   "language": "python",
   "name": "python3"
  },
  "language_info": {
   "codemirror_mode": {
    "name": "ipython",
    "version": 3
   },
   "file_extension": ".py",
   "mimetype": "text/x-python",
   "name": "python",
   "nbconvert_exporter": "python",
   "pygments_lexer": "ipython3",
   "version": "3.8.10"
  }
 },
 "nbformat": 4,
 "nbformat_minor": 2
}
